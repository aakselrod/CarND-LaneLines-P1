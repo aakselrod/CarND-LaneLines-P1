{
 "cells": [
  {
   "cell_type": "markdown",
   "metadata": {},
   "source": [
    "# **Finding Lane Lines on the Road** \n",
    "***\n",
    "In this project, you will use the tools you learned about in the lesson to identify lane lines on the road.  You can develop your pipeline on a series of individual images, and later apply the result to a video stream (really just a series of images). Check out the video clip \"raw-lines-example.mp4\" (also contained in this repository) to see what the output should look like after using the helper functions below. \n",
    "\n",
    "Once you have a result that looks roughly like \"raw-lines-example.mp4\", you'll need to get creative and try to average and/or extrapolate the line segments you've detected to map out the full extent of the lane lines.  You can see an example of the result you're going for in the video \"P1_example.mp4\".  Ultimately, you would like to draw just one line for the left side of the lane, and one for the right.\n",
    "\n",
    "---\n",
    "Let's have a look at our first image called 'test_images/solidWhiteRight.jpg'.  Run the 2 cells below (hit Shift-Enter or the \"play\" button above) to display the image.\n",
    "\n",
    "**Note** If, at any point, you encounter frozen display windows or other confounding issues, you can always start again with a clean slate by going to the \"Kernel\" menu above and selecting \"Restart & Clear Output\".\n",
    "\n",
    "---"
   ]
  },
  {
   "cell_type": "markdown",
   "metadata": {},
   "source": [
    "**The tools you have are color selection, region of interest selection, grayscaling, Gaussian smoothing, Canny Edge Detection and Hough Tranform line detection.  You  are also free to explore and try other techniques that were not presented in the lesson.  Your goal is piece together a pipeline to detect the line segments in the image, then average/extrapolate them and draw them onto the image for display (as below).  Once you have a working pipeline, try it out on the video stream below.**\n",
    "\n",
    "---\n",
    "\n",
    "<figure>\n",
    " <img src=\"line-segments-example.jpg\" width=\"380\" alt=\"Combined Image\" />\n",
    " <figcaption>\n",
    " <p></p> \n",
    " <p style=\"text-align: center;\"> Your output should look something like this (above) after detecting line segments using the helper functions below </p> \n",
    " </figcaption>\n",
    "</figure>\n",
    " <p></p> \n",
    "<figure>\n",
    " <img src=\"laneLines_thirdPass.jpg\" width=\"380\" alt=\"Combined Image\" />\n",
    " <figcaption>\n",
    " <p></p> \n",
    " <p style=\"text-align: center;\"> Your goal is to connect/average/extrapolate line segments to get output like this</p> \n",
    " </figcaption>\n",
    "</figure>"
   ]
  },
  {
   "cell_type": "code",
   "execution_count": null,
   "metadata": {
    "collapsed": false
   },
   "outputs": [],
   "source": [
    "#importing some useful packages\n",
    "import matplotlib.pyplot as plt\n",
    "import matplotlib.image as mpimg\n",
    "import numpy as np\n",
    "import cv2\n",
    "%matplotlib inline"
   ]
  },
  {
   "cell_type": "code",
   "execution_count": null,
   "metadata": {
    "collapsed": false
   },
   "outputs": [],
   "source": [
    "#reading in an image\n",
    "image = mpimg.imread('test_images/solidWhiteRight.jpg')\n",
    "#printing out some stats and plotting\n",
    "print('This image is:', type(image), 'with dimesions:', image.shape)\n",
    "plt.imshow(image)  #call as plt.imshow(gray, cmap='gray') to show a grayscaled image"
   ]
  },
  {
   "cell_type": "markdown",
   "metadata": {},
   "source": [
    "**Some OpenCV functions (beyond those introduced in the lesson) that might be useful for this project are:**\n",
    "\n",
    "`cv2.inRange()` for color selection  \n",
    "`cv2.fillPoly()` for regions selection  \n",
    "`cv2.line()` to draw lines on an image given endpoints  \n",
    "`cv2.addWeighted()` to coadd / overlay two images\n",
    "`cv2.cvtColor()` to grayscale or change color\n",
    "`cv2.imwrite()` to output images to file  \n",
    "`cv2.bitwise_and()` to apply a mask to an image\n",
    "\n",
    "**Check out the OpenCV documentation to learn about these and discover even more awesome functionality!**"
   ]
  },
  {
   "cell_type": "markdown",
   "metadata": {},
   "source": [
    "Below are some helper functions to help get you started. They should look familiar from the lesson!"
   ]
  },
  {
   "cell_type": "code",
   "execution_count": null,
   "metadata": {
    "collapsed": false
   },
   "outputs": [],
   "source": [
    "import math\n",
    "\n",
    "def grayscale(img):\n",
    "    \"\"\"Applies the Grayscale transform\n",
    "    This will return an image with only one color channel\n",
    "    but NOTE: to see the returned image as grayscale\n",
    "    you should call plt.imshow(gray, cmap='gray')\"\"\"\n",
    "    return cv2.cvtColor(img, cv2.COLOR_BGR2GRAY)\n",
    "    \n",
    "def canny(img, low_threshold, high_threshold):\n",
    "    \"\"\"Applies the Canny transform\"\"\"\n",
    "    return cv2.Canny(img, low_threshold, high_threshold)\n",
    "\n",
    "def gaussian_blur(img, kernel_size):\n",
    "    \"\"\"Applies a Gaussian Noise kernel\"\"\"\n",
    "    return cv2.GaussianBlur(img, (kernel_size, kernel_size), 0)\n",
    "\n",
    "def region_of_interest(img, vertices):\n",
    "    \"\"\"\n",
    "    Applies an image mask.\n",
    "    \n",
    "    Only keeps the region of the image defined by the polygon\n",
    "    formed from `vertices`. The rest of the image is set to black.\n",
    "    \"\"\"\n",
    "    #defining a blank mask to start with\n",
    "    mask = np.zeros_like(img)   \n",
    "    \n",
    "    #defining a 3 channel or 1 channel color to fill the mask with depending on the input image\n",
    "    if len(img.shape) > 2:\n",
    "        channel_count = img.shape[2]  # i.e. 3 or 4 depending on your image\n",
    "        ignore_mask_color = (255,) * channel_count\n",
    "    else:\n",
    "        ignore_mask_color = 255\n",
    "        \n",
    "    #filling pixels inside the polygon defined by \"vertices\" with the fill color    \n",
    "    cv2.fillPoly(mask, vertices, ignore_mask_color)\n",
    "    \n",
    "    #returning the image only where mask pixels are nonzero\n",
    "    masked_image = cv2.bitwise_and(img, mask)\n",
    "    return masked_image\n",
    "\n",
    "def point_dist(x1, y1, x2, y2):\n",
    "    \"\"\"\n",
    "    This function finds the distance between two pixels\n",
    "    \"\"\"\n",
    "    return math.sqrt(float((x1 - x2) ** 2 + (y1 - y2) ** 2))\n",
    "\n",
    "def segment_slope(x1, y1, x2, y2):\n",
    "    \"\"\"\n",
    "    This function finds the slope of a line segment between two pixels\n",
    "    \"\"\"\n",
    "    return (float(y1-y2)/(float(x1-x2) if x1 != x2 else 0.001))\n",
    "\n",
    "# Globals used to track previous frame's lane lines\n",
    "llane = (0, 0, 0, 0)\n",
    "rlane = (0, 0, 0, 0)\n",
    "slope_l = 0.0\n",
    "slope_r = 0.0\n",
    "int_l = 0.0\n",
    "int_r = 0.0\n",
    "\n",
    "def init_frames():\n",
    "    \"\"\"\n",
    "    This function reinitializes the globals that keep track of lanes between frames in a video.\n",
    "    It should be called before using `hough_lines` or `draw_lines` on an image or on the first frame\n",
    "    of a new video.\n",
    "    \"\"\"\n",
    "    global llane, rlane, slope_l, slope_r, int_l, int_r\n",
    "    llane = (0, 0, 0, 0)\n",
    "    rlane = (0, 0, 0, 0)\n",
    "    slope_l = 0.0\n",
    "    slope_r = 0.0\n",
    "    int_l = 0.0\n",
    "    int_r = 0.0\n",
    "\n",
    "def draw_lines(img, lines, color=[255, 0, 0], thickness=8):\n",
    "    \"\"\"\n",
    "    NOTE: this is the function you might want to use as a starting point once you want to \n",
    "    average/extrapolate the line segments you detect to map out the full\n",
    "    extent of the lane (going from the result shown in raw-lines-example.mp4\n",
    "    to that shown in P1_example.mp4).  \n",
    "    \n",
    "    Think about things like separating line segments by their \n",
    "    slope ((y2-y1)/(x2-x1)) to decide which segments are part of the left\n",
    "    line vs. the right line.  Then, you can average the position of each of \n",
    "    the lines and extrapolate to the top and bottom of the lane.\n",
    "    \n",
    "    This function draws `lines` with `color` and `thickness`.    \n",
    "    Lines are drawn on the image inplace (mutates the image).\n",
    "    If you want to make the lines semi-transparent, think about combining\n",
    "    this function with the weighted_img() function below\n",
    "    \"\"\"\n",
    "    global llane, rlane, slope_l, slope_r, int_l, int_r\n",
    "    \n",
    "    # Horizontal center of screen\n",
    "    rc_x_c = img.shape[1]/2\n",
    "    # Find left and right reference pixel coordinates for approximate location of where the lanes should be\n",
    "    # If they weren't set before, initialize to sane initial values\n",
    "    if (rlane == (0,0,0,0)):\n",
    "        rc_x_l = img.shape[1] / 3\n",
    "        rc_x_r = rc_x_l * 2\n",
    "        rc_y_l = img.shape[0]\n",
    "        rc_y_r = img.shape[0]\n",
    "    else: # Otherwise, get them from the lane found in the last frame, which reduces noise\n",
    "        rc_x_l = (llane[0] + llane[2])/2\n",
    "        rc_x_r = (rlane[0] + rlane[2])/2\n",
    "        rc_y_l = (llane[1] + llane[3])/2\n",
    "        rc_y_r = (rlane[1] + rlane[3])/2\n",
    "    \n",
    "    # Variables to keep track of state inside loop\n",
    "    ldist = point_dist(0, 0, img.shape[0], img.shape[1])\n",
    "    rdist = point_dist(0, 0, img.shape[0], img.shape[1])\n",
    "    lslope = 0.0\n",
    "    rslope = 0.0\n",
    "    lint = 0.0\n",
    "    rint = 0.0\n",
    "    # Find lane ends closest to car by finding the lines which come closest to left and right reference pixels\n",
    "    for line in lines:\n",
    "        for x1, y1, x2, y2 in line:\n",
    "            slope = segment_slope(x1, y1, x2, y2)\n",
    "            intercept = y1 - (slope * x1)\n",
    "            if ((min(x1, x2) < rc_x_c) and (slope < -0.25)): # On the left and negative (in image coordinates) slope\n",
    "                dist1 = point_dist(x1, y1, rc_x_l, rc_y_l)\n",
    "                dist2 = point_dist(x2, y2, rc_x_l, rc_y_l)\n",
    "                dist3 = point_dist((x1+x2)/2, (y1+y2)/2, rc_x_l, rc_y_l)\n",
    "                if ((min(dist1, dist2, dist3) < ldist) and ((lslope == 0) or (slope_l == 0))) or \\\n",
    "                    ((slope_l != 0) and (abs(slope - slope_l) < abs(lslope - slope_l)) and \\\n",
    "                        (abs(intercept - int_l) < abs(lint - int_l))):\n",
    "                    ldist = min(dist1, dist2, dist3)\n",
    "                    llane = (x1, y1, x2, y2)\n",
    "                    lslope = slope\n",
    "                    lint = intercept\n",
    "            if (max(x1, x2) > rc_x_c) and (slope > 0.25): # On the right and positive (in image coordinates) slope\n",
    "                dist1 = point_dist(x1, y1, rc_x_r, rc_y_r)\n",
    "                dist2 = point_dist(x2, y2, rc_x_r, rc_y_r)\n",
    "                dist3 = point_dist((x1+x2)/2, (y1+y2)/2, rc_x_r, rc_y_r)\n",
    "                if ((min(dist1, dist2, dist3) < rdist) and ((rslope == 0) or (slope_r == 0))) or \\\n",
    "                    ((slope_r != 0) and (abs(slope - slope_r) < abs(rslope - slope_r)) and \\\n",
    "                        (abs(intercept - int_r) < abs(rint - int_r))):\n",
    "                    rdist = min(dist1, dist2, dist3)\n",
    "                    rlane = (x1, y1, x2, y2)\n",
    "                    rslope = slope\n",
    "                    rint = intercept\n",
    "    \n",
    "    slope_l = lslope\n",
    "    slope_r = rslope\n",
    "    int_l = lint\n",
    "    int_r = rint\n",
    "    \n",
    "    # Extend and draw the lane lines we found, from bottom of image to their intersection at the \"horizon\" (not perfect)\n",
    "    ly1 = img.shape[1]\n",
    "    lx1 = int((ly1 - int_l) / slope_l)\n",
    "    ry1 = ly1\n",
    "    rx1 = int((ry1 - int_r) / slope_r)\n",
    "    x2 = int((int_l - int_r) / (slope_r - slope_l))\n",
    "    y2 = int((slope_l * x2) + int_l)\n",
    "    cv2.line(img, (lx1, ly1), (x2, y2), color, thickness)\n",
    "    cv2.line(img, (rx1, ry1), (x2, y2), color, thickness)\n",
    "\n",
    "def hough_lines(img, rho, theta, threshold, min_line_len, max_line_gap):\n",
    "    \"\"\"\n",
    "    `img` should be the output of a Canny transform.\n",
    "        \n",
    "    Returns an image with hough lines drawn.\n",
    "    \"\"\"\n",
    "    lines = cv2.HoughLinesP(img, rho, theta, threshold, np.array([]), minLineLength=min_line_len, maxLineGap=max_line_gap)\n",
    "    # Don't use splat; doesn't work in Python 2.7\n",
    "    line_img = np.zeros((img.shape[0], img.shape[1], 3), dtype=np.uint8)\n",
    "    draw_lines(line_img, lines)\n",
    "    return line_img\n",
    "\n",
    "# Python 3 has support for cool math symbols.\n",
    "\n",
    "def weighted_img(img, initial_img, a=0.8, b=1., l=0.):\n",
    "    \"\"\"\n",
    "    `img` is the output of the hough_lines(), An image with lines drawn on it.\n",
    "    Should be a blank image (all black) with lines drawn on it.\n",
    "    \n",
    "    `initial_img` should be the image before any processing.\n",
    "    \n",
    "    The result image is computed as follows:\n",
    "    \n",
    "    initial_img * α + img * β + λ\n",
    "    NOTE: initial_img and img must be the same shape!\n",
    "    \"\"\"\n",
    "    return cv2.addWeighted(initial_img, a, img, b, l)"
   ]
  },
  {
   "cell_type": "markdown",
   "metadata": {},
   "source": [
    "## Test on Images\n",
    "\n",
    "Now you should build your pipeline to work on the images in the directory \"test_images\"  \n",
    "**You should make sure your pipeline works well on these images before you try the videos.**"
   ]
  },
  {
   "cell_type": "code",
   "execution_count": null,
   "metadata": {
    "collapsed": false
   },
   "outputs": [],
   "source": [
    "import os\n",
    "# Count number of figures to display multiple images at once\n",
    "i = 0\n",
    "# Go through each image in test_images subdirectory\n",
    "for img_file in os.listdir(\"test_images/\"):\n",
    "    # Initialize globals so the last image's lane lines aren't used in calculations\n",
    "    init_frames()\n",
    "    # Read the image\n",
    "    img = mpimg.imread('test_images/' + img_file)\n",
    "    # Set figure number\n",
    "    i += 1\n",
    "    plt.figure(i)\n",
    "    # Make image grayscale for processing based on brightness gradient\n",
    "    gray_img = grayscale(img)\n",
    "    # Add Gaussian blur to prevent finding too many edges\n",
    "    blur_img = gaussian_blur(gray_img, 3)\n",
    "    # Use Canny edge detection to find edges\n",
    "    canny_img = canny(blur_img, 50, 150)\n",
    "    # Select just the region we're LIKELY to be interested in\n",
    "    vertices = np.array([[\n",
    "                (0, img.shape[0]),\n",
    "                (img.shape[1] * .4, img.shape[0] * .4),\n",
    "                (img.shape[1] * .6, img.shape[0] * .4),\n",
    "                (img.shape[1], img.shape[0])\n",
    "            ]], dtype=np.int32)\n",
    "    clipped_img = region_of_interest(canny_img, vertices)\n",
    "    # Use Hough transform to find lines\n",
    "    hough_img = hough_lines(clipped_img, 2, np.pi/180, 25, 40, 20)\n",
    "    # Plot image\n",
    "    plt.imshow(weighted_img(hough_img, img))\n",
    "plt.show()"
   ]
  },
  {
   "cell_type": "markdown",
   "metadata": {},
   "source": [
    "run your solution on all test_images and make copies into the test_images directory)."
   ]
  },
  {
   "cell_type": "markdown",
   "metadata": {},
   "source": [
    "## Test on Videos\n",
    "\n",
    "You know what's cooler than drawing lanes over images? Drawing lanes over video!\n",
    "\n",
    "We can test our solution on two provided videos:\n",
    "\n",
    "`solidWhiteRight.mp4`\n",
    "\n",
    "`solidYellowLeft.mp4`"
   ]
  },
  {
   "cell_type": "code",
   "execution_count": null,
   "metadata": {
    "collapsed": false
   },
   "outputs": [],
   "source": [
    "# Import everything needed to edit/save/watch video clips\n",
    "from moviepy.editor import VideoFileClip\n",
    "from IPython.display import HTML"
   ]
  },
  {
   "cell_type": "code",
   "execution_count": null,
   "metadata": {
    "collapsed": true
   },
   "outputs": [],
   "source": [
    "def process_image(image):\n",
    "    # Make image grayscale for processing based on brightness gradient\n",
    "    gray_img = grayscale(image)\n",
    "    # Add Gaussian blur to prevent finding too many edges\n",
    "    blur_img = gaussian_blur(gray_img, 3)\n",
    "    # Use Canny edge detection to find edges\n",
    "    canny_img = canny(gray_img, 50, 150)\n",
    "    # Select just the region we're LIKELY to be interested in\n",
    "    vertices = np.array([[\n",
    "                (0, image.shape[0]),\n",
    "                (image.shape[1] * .4, image.shape[0] * .4),\n",
    "                (image.shape[1] * .6, image.shape[0] * .4),\n",
    "                (image.shape[1], image.shape[0])\n",
    "            ]], dtype=np.int32)\n",
    "    clipped_img = region_of_interest(canny_img, vertices)\n",
    "    # Use Hough transform to find lines\n",
    "    hough_img = hough_lines(clipped_img, 2, np.pi/180, 25, 40, 20)\n",
    "    # Return weighted image\n",
    "    return weighted_img(hough_img, image)"
   ]
  },
  {
   "cell_type": "markdown",
   "metadata": {},
   "source": [
    "Let's try the one with the solid white lane on the right first ..."
   ]
  },
  {
   "cell_type": "code",
   "execution_count": null,
   "metadata": {
    "collapsed": false
   },
   "outputs": [],
   "source": [
    "init_frames()\n",
    "white_output = 'white.mp4'\n",
    "clip1 = VideoFileClip(\"solidWhiteRight.mp4\")\n",
    "white_clip = clip1.fl_image(process_image) #NOTE: this function expects color images!!\n",
    "%time white_clip.write_videofile(white_output, audio=False)"
   ]
  },
  {
   "cell_type": "markdown",
   "metadata": {},
   "source": [
    "Play the video inline, or if you prefer find the video in your filesystem (should be in the same directory) and play it in your video player of choice."
   ]
  },
  {
   "cell_type": "code",
   "execution_count": null,
   "metadata": {
    "collapsed": false
   },
   "outputs": [],
   "source": [
    "HTML(\"\"\"\n",
    "<video width=\"960\" height=\"540\" controls>\n",
    "  <source src=\"{0}\">\n",
    "</video>\n",
    "\"\"\".format(white_output))"
   ]
  },
  {
   "cell_type": "markdown",
   "metadata": {},
   "source": [
    "**At this point, if you were successful you probably have the Hough line segments drawn onto the road, but what about identifying the full extent of the lane and marking it clearly as in the example video (P1_example.mp4)?  Think about defining a line to run the full length of the visible lane based on the line segments you identified with the Hough Transform.  Modify your draw_lines function accordingly and try re-running your pipeline.**"
   ]
  },
  {
   "cell_type": "markdown",
   "metadata": {},
   "source": [
    "Now for the one with the solid yellow lane on the left. This one's more tricky!"
   ]
  },
  {
   "cell_type": "code",
   "execution_count": null,
   "metadata": {
    "collapsed": false
   },
   "outputs": [],
   "source": [
    "init_frames()\n",
    "yellow_output = 'yellow.mp4'\n",
    "clip2 = VideoFileClip('solidYellowLeft.mp4')\n",
    "yellow_clip = clip2.fl_image(process_image)\n",
    "%time yellow_clip.write_videofile(yellow_output, audio=False)"
   ]
  },
  {
   "cell_type": "code",
   "execution_count": null,
   "metadata": {
    "collapsed": false,
    "scrolled": false
   },
   "outputs": [],
   "source": [
    "HTML(\"\"\"\n",
    "<video width=\"960\" height=\"540\" controls>\n",
    "  <source src=\"{0}\">\n",
    "</video>\n",
    "\"\"\".format(yellow_output))"
   ]
  },
  {
   "cell_type": "markdown",
   "metadata": {},
   "source": [
    "## Reflections\n",
    "\n",
    "Congratulations on finding the lane lines!  As the final step in this project, we would like you to share your thoughts on your lane finding pipeline... specifically, how could you imagine making your algorithm better / more robust?  Where will your current algorithm be likely to fail?\n",
    "\n",
    "Please add your thoughts below,  and if you're up for making your pipeline more robust, be sure to scroll down and check out the optional challenge video below!\n",
    "\n",
    "### Alex's Thoughts\n",
    "\n",
    "There are quite a few things I can think of to make my algorithm better.\n",
    "\n",
    "* Finding edges/Hough lines in lower contrast settings, such as when the car goes over the bridge in the challenge video. In the time I had, I couldn't get Hough lines to be found for the yellow line on the left on that bridge; the closest I could get was the bottom of the Jersey wall.\n",
    "\n",
    "* A better heuristic for finding a lane line starting point. I went off the position and slope based on the camera, but this wouldn't work very well in the case of switching lanes or turning.\n",
    "\n",
    "* Combining multiple Hough lines to create a lane line instead of taking the closest one and extending it to the bottom of the screen and the \"intersection\" of the lane lines. This is especially evident when the road curves."
   ]
  },
  {
   "cell_type": "markdown",
   "metadata": {},
   "source": [
    "## Submission\n",
    "\n",
    "If you're satisfied with your video outputs it's time to submit!  Submit this ipython notebook for review.\n"
   ]
  },
  {
   "cell_type": "markdown",
   "metadata": {
    "collapsed": true
   },
   "source": [
    "## Optional Challenge\n",
    "\n",
    "Try your lane finding pipeline on the video below.  Does it still work?  Can you figure out a way to make it more robust?  If you're up for the challenge, modify your pipeline so it works with this video and submit it along with the rest of your project!"
   ]
  },
  {
   "cell_type": "code",
   "execution_count": null,
   "metadata": {
    "collapsed": false
   },
   "outputs": [],
   "source": [
    "init_frames()\n",
    "challenge_output = 'extra.mp4'\n",
    "clip2 = VideoFileClip('challenge.mp4')\n",
    "challenge_clip = clip2.fl_image(process_image)\n",
    "%time challenge_clip.write_videofile(challenge_output, audio=False)"
   ]
  },
  {
   "cell_type": "code",
   "execution_count": null,
   "metadata": {
    "collapsed": false
   },
   "outputs": [],
   "source": [
    "HTML(\"\"\"\n",
    "<video width=\"960\" height=\"540\" controls>\n",
    "  <source src=\"{0}\">\n",
    "</video>\n",
    "\"\"\".format(challenge_output))"
   ]
  }
 ],
 "metadata": {
  "anaconda-cloud": {},
  "kernelspec": {
   "display_name": "Python 2",
   "language": "python",
   "name": "python2"
  },
  "language_info": {
   "codemirror_mode": {
    "name": "ipython",
    "version": 2
   },
   "file_extension": ".py",
   "mimetype": "text/x-python",
   "name": "python",
   "nbconvert_exporter": "python",
   "pygments_lexer": "ipython2",
   "version": "2.7.12"
  }
 },
 "nbformat": 4,
 "nbformat_minor": 0
}
